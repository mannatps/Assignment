{
  "nbformat": 4,
  "nbformat_minor": 0,
  "metadata": {
    "colab": {
      "name": "Untitled13.ipynb",
      "provenance": [],
      "collapsed_sections": []
    },
    "kernelspec": {
      "name": "python3",
      "display_name": "Python 3"
    },
    "language_info": {
      "name": "python"
    }
  },
  "cells": [
    {
      "cell_type": "markdown",
      "metadata": {
        "id": "wCTpW4NAXh0D"
      },
      "source": [
        "**Soumya Swaraj**"
      ]
    },
    {
      "cell_type": "markdown",
      "metadata": {
        "id": "mLXu3LUxXkI6"
      },
      "source": [
        "**COE26**"
      ]
    },
    {
      "cell_type": "markdown",
      "metadata": {
        "id": "teR5tZptXpB7"
      },
      "source": [
        "**101803573**"
      ]
    },
    {
      "cell_type": "markdown",
      "metadata": {
        "id": "QNaref1vXr1X"
      },
      "source": [
        "**Q1: (Multinomial Bayes Classifier for Text Classification-spam**\n",
        "**detection)** "
      ]
    },
    {
      "cell_type": "code",
      "metadata": {
        "id": "wmzHdK9rp7w1"
      },
      "source": [
        "import pandas as pd\n",
        "import re\n",
        "import nltk\n",
        "from nltk.corpus import stopwords\n",
        "from nltk.stem.porter import PorterStemmer\n",
        "from sklearn.feature_extraction.text import CountVectorizer"
      ],
      "execution_count": 25,
      "outputs": []
    },
    {
      "cell_type": "code",
      "metadata": {
        "id": "u4bGcvGWqAn9"
      },
      "source": [
        "df=pd.read_csv('/content/spam.csv',encoding='latin-1')"
      ],
      "execution_count": 26,
      "outputs": []
    },
    {
      "cell_type": "code",
      "metadata": {
        "colab": {
          "base_uri": "https://localhost:8080/",
          "height": 168
        },
        "id": "5_lMK0y2PEGJ",
        "outputId": "a377a5ef-b0c6-4a08-fd0a-d459dccd89ca"
      },
      "source": [
        "df.describe()"
      ],
      "execution_count": 27,
      "outputs": [
        {
          "output_type": "execute_result",
          "data": {
            "text/html": [
              "<div>\n",
              "<style scoped>\n",
              "    .dataframe tbody tr th:only-of-type {\n",
              "        vertical-align: middle;\n",
              "    }\n",
              "\n",
              "    .dataframe tbody tr th {\n",
              "        vertical-align: top;\n",
              "    }\n",
              "\n",
              "    .dataframe thead th {\n",
              "        text-align: right;\n",
              "    }\n",
              "</style>\n",
              "<table border=\"1\" class=\"dataframe\">\n",
              "  <thead>\n",
              "    <tr style=\"text-align: right;\">\n",
              "      <th></th>\n",
              "      <th>v1</th>\n",
              "      <th>v2</th>\n",
              "      <th>Unnamed: 2</th>\n",
              "      <th>Unnamed: 3</th>\n",
              "      <th>Unnamed: 4</th>\n",
              "    </tr>\n",
              "  </thead>\n",
              "  <tbody>\n",
              "    <tr>\n",
              "      <th>count</th>\n",
              "      <td>5572</td>\n",
              "      <td>5572</td>\n",
              "      <td>50</td>\n",
              "      <td>12</td>\n",
              "      <td>6</td>\n",
              "    </tr>\n",
              "    <tr>\n",
              "      <th>unique</th>\n",
              "      <td>2</td>\n",
              "      <td>5169</td>\n",
              "      <td>43</td>\n",
              "      <td>10</td>\n",
              "      <td>5</td>\n",
              "    </tr>\n",
              "    <tr>\n",
              "      <th>top</th>\n",
              "      <td>ham</td>\n",
              "      <td>Sorry, I'll call later</td>\n",
              "      <td>bt not his girlfrnd... G o o d n i g h t . . .@\"</td>\n",
              "      <td>MK17 92H. 450Ppw 16\"</td>\n",
              "      <td>GNT:-)\"</td>\n",
              "    </tr>\n",
              "    <tr>\n",
              "      <th>freq</th>\n",
              "      <td>4825</td>\n",
              "      <td>30</td>\n",
              "      <td>3</td>\n",
              "      <td>2</td>\n",
              "      <td>2</td>\n",
              "    </tr>\n",
              "  </tbody>\n",
              "</table>\n",
              "</div>"
            ],
            "text/plain": [
              "          v1                      v2  ...             Unnamed: 3 Unnamed: 4\n",
              "count   5572                    5572  ...                     12          6\n",
              "unique     2                    5169  ...                     10          5\n",
              "top      ham  Sorry, I'll call later  ...   MK17 92H. 450Ppw 16\"    GNT:-)\"\n",
              "freq    4825                      30  ...                      2          2\n",
              "\n",
              "[4 rows x 5 columns]"
            ]
          },
          "metadata": {
            "tags": []
          },
          "execution_count": 27
        }
      ]
    },
    {
      "cell_type": "code",
      "metadata": {
        "id": "0P2OkR96PtvV"
      },
      "source": [
        "df=df.drop(columns={'Unnamed: 2','Unnamed: 3','Unnamed: 4'})"
      ],
      "execution_count": 28,
      "outputs": []
    },
    {
      "cell_type": "code",
      "metadata": {
        "id": "RuSK_0vYQALg"
      },
      "source": [
        "df.columns = [\"Reviews\", \"Text\"]"
      ],
      "execution_count": 29,
      "outputs": []
    },
    {
      "cell_type": "code",
      "metadata": {
        "id": "nu6d7XJ4Qt5b"
      },
      "source": [
        "from sklearn.feature_extraction.text import CountVectorizer\n",
        "#here, we performed count vectorization\n",
        "vectorizer = CountVectorizer()\n",
        "X = vectorizer.fit_transform(df[\"Text\"])"
      ],
      "execution_count": 30,
      "outputs": []
    },
    {
      "cell_type": "code",
      "metadata": {
        "colab": {
          "base_uri": "https://localhost:8080/"
        },
        "id": "pXp-WdlCUKEL",
        "outputId": "35d5893c-cb38-49de-b676-e1ea734c1cef"
      },
      "source": [
        "X=X.toarray() # type 2d matrix\n",
        "print(X.shape)\n",
        "y=df['Reviews']"
      ],
      "execution_count": 31,
      "outputs": [
        {
          "output_type": "stream",
          "text": [
            "(5572, 8672)\n"
          ],
          "name": "stdout"
        }
      ]
    },
    {
      "cell_type": "code",
      "metadata": {
        "colab": {
          "base_uri": "https://localhost:8080/"
        },
        "id": "d1qt9_McUq5m",
        "outputId": "6c9b6b83-a0fe-467e-9854-12e59a4e196e"
      },
      "source": [
        "# splitting the data set into training set and test set\n",
        "from sklearn.model_selection import train_test_split\n",
        "X_train,X_test,y_train,y_test=train_test_split(X,y,test_size=0.3, random_state = 42) #setting up train and test datasets\n",
        "X_test.shape"
      ],
      "execution_count": 32,
      "outputs": [
        {
          "output_type": "execute_result",
          "data": {
            "text/plain": [
              "(1672, 8672)"
            ]
          },
          "metadata": {
            "tags": []
          },
          "execution_count": 32
        }
      ]
    },
    {
      "cell_type": "code",
      "metadata": {
        "colab": {
          "base_uri": "https://localhost:8080/"
        },
        "id": "5iL76wJmVJH4",
        "outputId": "dba76710-f8b9-44d2-92d1-71755e015755"
      },
      "source": [
        "from sklearn.naive_bayes import MultinomialNB\n",
        "\n",
        "NB_classifier=MultinomialNB()\n",
        "NB_classifier.fit(X_train,y_train) #training our model using training dataset"
      ],
      "execution_count": 33,
      "outputs": [
        {
          "output_type": "execute_result",
          "data": {
            "text/plain": [
              "MultinomialNB(alpha=1.0, class_prior=None, fit_prior=True)"
            ]
          },
          "metadata": {
            "tags": []
          },
          "execution_count": 33
        }
      ]
    },
    {
      "cell_type": "code",
      "metadata": {
        "id": "ZlcVP91aVljF",
        "colab": {
          "base_uri": "https://localhost:8080/"
        },
        "outputId": "ec937814-1e97-465c-a034-96b8ebd7931e"
      },
      "source": [
        "from sklearn.metrics import classification_report\n",
        "y_test_predictions=NB_classifier.predict(X_test)\n",
        "print(classification_report(y_test,y_test_predictions))"
      ],
      "execution_count": 34,
      "outputs": [
        {
          "output_type": "stream",
          "text": [
            "              precision    recall  f1-score   support\n",
            "\n",
            "         ham       0.99      0.99      0.99      1453\n",
            "        spam       0.92      0.92      0.92       219\n",
            "\n",
            "    accuracy                           0.98      1672\n",
            "   macro avg       0.95      0.95      0.95      1672\n",
            "weighted avg       0.98      0.98      0.98      1672\n",
            "\n"
          ],
          "name": "stdout"
        }
      ]
    },
    {
      "cell_type": "code",
      "metadata": {
        "colab": {
          "base_uri": "https://localhost:8080/"
        },
        "id": "7-c8qqQCWOty",
        "outputId": "ac02a926-bd98-42f5-fbcb-0b902ffa456b"
      },
      "source": [
        "from sklearn.metrics import confusion_matrix\n",
        "cm = confusion_matrix(y_test, y_test_predictions)\n",
        "cm"
      ],
      "execution_count": 35,
      "outputs": [
        {
          "output_type": "execute_result",
          "data": {
            "text/plain": [
              "array([[1435,   18],\n",
              "       [  18,  201]])"
            ]
          },
          "metadata": {
            "tags": []
          },
          "execution_count": 35
        }
      ]
    },
    {
      "cell_type": "markdown",
      "metadata": {
        "id": "HRlfsrKNXxmJ"
      },
      "source": [
        "**Q2: (Gaussian Naïve Bayes Classifier**)"
      ]
    },
    {
      "cell_type": "markdown",
      "metadata": {
        "id": "LWkaABy3QQsl"
      },
      "source": [
        "**(i) Step-by-step implementation**\n",
        "\n",
        "\n"
      ]
    },
    {
      "cell_type": "code",
      "metadata": {
        "id": "LhRj0ErsOoBB"
      },
      "source": [
        "from sklearn.datasets import load_iris\n",
        "data = load_iris()\n",
        "X = data.data\n",
        "y = data.target\n",
        "X_train,X_test,y_train,y_test=train_test_split(X,y,test_size=0.3, random_state = 42) #setting up train and test datasets"
      ],
      "execution_count": 36,
      "outputs": []
    },
    {
      "cell_type": "code",
      "metadata": {
        "id": "NjZt_TfYPBXM"
      },
      "source": [
        "classes = list()\n",
        "label0 = list()\n",
        "label1 = list()\n",
        "label2 = list()\n",
        "for i in range(len(X_train)):\n",
        " if(y_train[i] == 0):\n",
        "  label0.append(X_train[i])\n",
        " elif (y_train[i] == 1):\n",
        "  label1.append(X_train[i])\n",
        " else:\n",
        "  label2.append(X_train[i])\n",
        "\n",
        "classes.append(label0)\n",
        "classes.append(label1)\n",
        "classes.append(label2)"
      ],
      "execution_count": 39,
      "outputs": []
    },
    {
      "cell_type": "code",
      "metadata": {
        "colab": {
          "base_uri": "https://localhost:8080/"
        },
        "id": "QzvkJzRIPI5p",
        "outputId": "43787843-4e4a-4e13-c7fd-1529f5f8c537"
      },
      "source": [
        "import numpy as np\n",
        "means = list()\n",
        "sds = list()\n",
        "for i in range(len(classes)):\n",
        "  data = np.array(classes[i])\n",
        "  me = list()\n",
        "  sd = list()\n",
        "  for j in range(4):\n",
        "    me.append(data[:,j].mean())\n",
        "    sd.append(data[:,j].std())\n",
        "  means.append(me)\n",
        "  sds.append(sd)\n",
        "# print(means)\n",
        "# print(sds)\n",
        "priors = []\n",
        "for i in range(3):\n",
        " priors.append(len(y_train[y_train == i])/len(y_train))\n",
        "priors"
      ],
      "execution_count": 42,
      "outputs": [
        {
          "output_type": "execute_result",
          "data": {
            "text/plain": [
              "[0.29523809523809524, 0.3523809523809524, 0.3523809523809524]"
            ]
          },
          "metadata": {
            "tags": []
          },
          "execution_count": 42
        }
      ]
    },
    {
      "cell_type": "code",
      "metadata": {
        "colab": {
          "base_uri": "https://localhost:8080/"
        },
        "id": "GoHu7KmPPkkI",
        "outputId": "6e70c57e-5c55-4441-af06-6bdfea468d71"
      },
      "source": [
        "import math as mt\n",
        "y_pred = list()\n",
        "def prob(val, sd, mean):\n",
        " return (1/(sd * (2*mt.pi)**0.5))*mt.exp(-0.5 * ((val - mean)/sd)**2)\n",
        "for i in range(len(X_test)):\n",
        "  data = X_test[i]\n",
        "  pro = list()\n",
        "  for j in range(len(means)):\n",
        "    mean = means[j]\n",
        "    sd = sds[j]\n",
        "    temp = 1\n",
        "    for k in range(len(data)):\n",
        "      temp *= (prob(data[k], sd[k], mean[k]))\n",
        "    pro.append(priors[j] * temp)\n",
        "  ma = -1\n",
        "  ind = 0\n",
        "  print(f\"Prob values at {i} is {pro}\")\n",
        "  for a in range(len(pro)):\n",
        "    if ma < pro[a]:\n",
        "      ma = pro[a]\n",
        "      ind = a\n",
        "  y_pred.append(ind)"
      ],
      "execution_count": 46,
      "outputs": [
        {
          "output_type": "stream",
          "text": [
            "Prob values at 0 is [1.1276219197431458e-88, 0.2699350384538964, 0.001212617155231614]\n",
            "Prob values at 1 is [0.055524549280097334, 7.275441543774296e-15, 1.2313790342009591e-21]\n",
            "Prob values at 2 is [6.859453426002256e-288, 1.8848832761408528e-15, 0.0006977475322409147]\n",
            "Prob values at 3 is [2.4068647889709984e-92, 0.2457649078585621, 0.006337493165473107]\n",
            "Prob values at 4 is [6.398588015674725e-105, 0.04898079924223028, 0.009896672333383589]\n",
            "Prob values at 5 is [0.4785873958910246, 3.2433546156937275e-13, 3.4213773881133925e-21]\n",
            "Prob values at 6 is [5.4983908442340675e-52, 0.19637751717793883, 7.084558978535482e-06]\n",
            "Prob values at 7 is [3.401234926965924e-173, 4.17524963919152e-08, 0.09798770747659667]\n",
            "Prob values at 8 is [4.560127382837945e-95, 0.05105761085185805, 0.00033000533628243297]\n",
            "Prob values at 9 is [4.184705491983115e-58, 0.4121693041212601, 1.9420367084495146e-05]\n",
            "Prob values at 10 is [6.100014134481387e-149, 4.050726706238844e-05, 0.15649527877290823]\n",
            "Prob values at 11 is [0.5873382462709843, 8.287552612379317e-17, 5.499427740159691e-25]\n",
            "Prob values at 12 is [0.4885419070397338, 1.2250735876846324e-16, 2.9282359800687603e-24]\n",
            "Prob values at 13 is [0.8637135841349202, 2.6117171355384406e-16, 3.192757273628783e-24]\n",
            "Prob values at 14 is [1.2936679511181672, 2.998986989833611e-16, 1.537606203898721e-23]\n",
            "Prob values at 15 is [1.8317504219545616e-106, 0.012743357094089823, 0.0173187172338709]\n",
            "Prob values at 16 is [1.690446577977331e-199, 5.4017191642152034e-08, 0.20062152437080485]\n",
            "Prob values at 17 is [1.241654902613103e-54, 0.19043184785352227, 2.14069471708183e-06]\n",
            "Prob values at 18 is [8.314397151645434e-83, 0.44847003574952476, 0.0008118898728768332]\n",
            "Prob values at 19 is [3.6525279605258967e-188, 3.472071397143555e-07, 0.18176563510785315]\n",
            "Prob values at 20 is [1.3804653659315225, 3.661020733268323e-15, 4.056855995602774e-23]\n",
            "Prob values at 21 is [2.2760292564570154e-125, 0.006295771193728679, 0.08302493770814014]\n",
            "Prob values at 22 is [0.858393595413077, 3.7671423987087754e-13, 3.773954700384558e-21]\n",
            "Prob values at 23 is [5.315116420861823e-181, 2.6954034403429e-06, 0.21508092360986522]\n",
            "Prob values at 24 is [4.5737184567223153e-234, 5.0775217475138896e-14, 0.00030453683800286507]\n",
            "Prob values at 25 is [1.093061306976903e-176, 8.095535353211206e-08, 0.13455313249579534]\n",
            "Prob values at 26 is [2.2563551028915985e-175, 3.115597496348356e-05, 0.05621847901218507]\n",
            "Prob values at 27 is [1.501936222513571e-214, 4.933907286636602e-10, 0.10061204986454216]\n",
            "Prob values at 28 is [1.3596071315238913, 1.7181962406927425e-14, 3.677232648194579e-23]\n",
            "Prob values at 29 is [1.415536036109216, 8.9315415597947e-15, 7.378442540602441e-23]\n",
            "Prob values at 30 is [0.05015213343778675, 7.210921412453637e-20, 6.761266981737873e-28]\n",
            "Prob values at 31 is [0.0021730199106755233, 6.40367527761988e-19, 5.320520205802065e-25]\n",
            "Prob values at 32 is [1.925388171536952e-87, 0.059640289023613915, 0.0031239855588051342]\n",
            "Prob values at 33 is [1.8726839603277705, 1.465254175059331e-15, 3.2468367254699903e-23]\n",
            "Prob values at 34 is [0.39885173162407345, 2.752913950171449e-17, 1.374629584196003e-25]\n",
            "Prob values at 35 is [6.55805506419357e-138, 0.0011151715833115086, 0.042479347091337175]\n",
            "Prob values at 36 is [5.982782317648411e-94, 0.049092394049620035, 0.007308357605675415]\n",
            "Prob values at 37 is [2.0228514341063986, 7.342756854117538e-16, 2.1983060949109245e-23]\n",
            "Prob values at 38 is [2.173882987641053, 5.169530363814122e-17, 1.4829462027351231e-24]\n",
            "Prob values at 39 is [0.13464050984542078, 2.768923908652774e-20, 1.5959783436088607e-26]\n",
            "Prob values at 40 is [5.421834679121902e-140, 0.0014688833194611596, 0.06159411121388993]\n",
            "Prob values at 41 is [6.92057265416912e-97, 0.011783746497176015, 0.004607069682802094]\n",
            "Prob values at 42 is [4.683614669942904e-104, 0.02730058635004306, 0.016801271893697272]\n",
            "Prob values at 43 is [0.1197043702198865, 1.5382146751240714e-16, 6.1599055850017064e-24]\n",
            "Prob values at 44 is [0.801984166534829, 1.4839525451170715e-16, 1.1161520308552966e-23]\n"
          ],
          "name": "stdout"
        }
      ]
    },
    {
      "cell_type": "code",
      "metadata": {
        "colab": {
          "base_uri": "https://localhost:8080/"
        },
        "id": "4uzRwL3RQD-O",
        "outputId": "38320cec-c8b9-4e63-8878-41c02c4d440d"
      },
      "source": [
        "print(classification_report(y_test, y_pred))"
      ],
      "execution_count": 47,
      "outputs": [
        {
          "output_type": "stream",
          "text": [
            "              precision    recall  f1-score   support\n",
            "\n",
            "           0       1.00      1.00      1.00        19\n",
            "           1       1.00      0.92      0.96        13\n",
            "           2       0.93      1.00      0.96        13\n",
            "\n",
            "    accuracy                           0.98        45\n",
            "   macro avg       0.98      0.97      0.97        45\n",
            "weighted avg       0.98      0.98      0.98        45\n",
            "\n"
          ],
          "name": "stdout"
        }
      ]
    },
    {
      "cell_type": "markdown",
      "metadata": {
        "id": "WkXJccstMd57"
      },
      "source": [
        "**(ii) In-built function**"
      ]
    },
    {
      "cell_type": "code",
      "metadata": {
        "colab": {
          "base_uri": "https://localhost:8080/"
        },
        "id": "4UBgct5SYP2K",
        "outputId": "e790336f-da9b-4821-b2f5-ac79092cdb0f"
      },
      "source": [
        "from sklearn.datasets import load_iris\n",
        "from sklearn.model_selection import train_test_split\n",
        "from sklearn.naive_bayes import GaussianNB\n",
        "from sklearn.metrics import classification_report\n",
        "X, y = load_iris(return_X_y=True)\n",
        "X_train, X_test, y_train, y_test = train_test_split(X, y, test_size=0.2, random_state=0)\n",
        "gnb = GaussianNB()\n",
        "y_pred = gnb.fit(X_train, y_train).predict(X_test)\n",
        "print(classification_report(y_test,y_pred))"
      ],
      "execution_count": null,
      "outputs": [
        {
          "output_type": "stream",
          "text": [
            "              precision    recall  f1-score   support\n",
            "\n",
            "           0       1.00      1.00      1.00        11\n",
            "           1       0.93      1.00      0.96        13\n",
            "           2       1.00      0.83      0.91         6\n",
            "\n",
            "    accuracy                           0.97        30\n",
            "   macro avg       0.98      0.94      0.96        30\n",
            "weighted avg       0.97      0.97      0.97        30\n",
            "\n"
          ],
          "name": "stdout"
        }
      ]
    },
    {
      "cell_type": "markdown",
      "metadata": {
        "id": "18DXvC_kXFMh"
      },
      "source": [
        "**Q3: (GridSearchCV for KNN)**"
      ]
    },
    {
      "cell_type": "code",
      "metadata": {
        "id": "AKO-LsUZYRDx"
      },
      "source": [
        "# Loading dataset\n",
        "\n",
        "import pandas as pd\n",
        "df = pd.read_csv('/content/Iris.csv')\n",
        "X=df.iloc[:,0:4]\n",
        "Y=df.iloc[:,4]\n",
        "from sklearn.preprocessing import LabelEncoder\n",
        "Y=LabelEncoder().fit_transform(Y)"
      ],
      "execution_count": null,
      "outputs": []
    },
    {
      "cell_type": "code",
      "metadata": {
        "id": "wkziihSsPrZI"
      },
      "source": [
        "from sklearn.model_selection import train_test_split\n",
        "X_train,X_test,Y_train,Y_test=train_test_split(X,Y,test_size=0.2,random_state=42)"
      ],
      "execution_count": null,
      "outputs": []
    },
    {
      "cell_type": "code",
      "metadata": {
        "id": "bmA_LdBqP3yd"
      },
      "source": [
        "import numpy as np\n",
        "import heapq\n",
        "import scipy\n",
        "Y_label=[]\n",
        "for i in range(len(X_test)):\n",
        "  X=np.array(X_test.iloc[i,:]).reshape(1,-1)\n",
        "  ary = scipy.spatial.distance.cdist(X_train, X, metric='euclidean')\n",
        "  indx=heapq.nsmallest(5, range(len(ary)), ary.take)\n",
        "  Y_neighbors=[]\n",
        "  for k in range(len(indx)):\n",
        "    Y_neighbors.append(Y_train[indx[k]])\n",
        "  Y_label.append(max(set(Y_neighbors), key = Y_neighbors.count))"
      ],
      "execution_count": null,
      "outputs": []
    },
    {
      "cell_type": "code",
      "metadata": {
        "colab": {
          "base_uri": "https://localhost:8080/"
        },
        "id": "WsaT-OdcQ9wH",
        "outputId": "84ec7d48-5bee-4351-e094-becfc9edda93"
      },
      "source": [
        "from sklearn import metrics\n",
        "print(metrics.classification_report(Y_test,Y_label))\n",
        "print(metrics.confusion_matrix(Y_test,Y_label))"
      ],
      "execution_count": null,
      "outputs": [
        {
          "output_type": "stream",
          "text": [
            "              precision    recall  f1-score   support\n",
            "\n",
            "           0       0.00      0.00      0.00         2\n",
            "           1       0.33      1.00      0.50         3\n",
            "           2       0.00      0.00      0.00         3\n",
            "           3       0.00      0.00      0.00         2\n",
            "           6       0.00      0.00      0.00         0\n",
            "           7       0.00      0.00      0.00         1\n",
            "           8       0.00      0.00      0.00         2\n",
            "           9       0.33      0.50      0.40         2\n",
            "          10       0.00      0.00      0.00         1\n",
            "          11       0.00      0.00      0.00         2\n",
            "          12       0.00      0.00      0.00         1\n",
            "          13       0.00      0.00      0.00         0\n",
            "          14       0.25      0.50      0.33         2\n",
            "          15       0.00      0.00      0.00         0\n",
            "          16       0.00      0.00      0.00         2\n",
            "          17       0.00      0.00      0.00         1\n",
            "          18       0.00      0.00      0.00         2\n",
            "          19       1.00      0.25      0.40         4\n",
            "\n",
            "    accuracy                           0.20        30\n",
            "   macro avg       0.11      0.12      0.09        30\n",
            "weighted avg       0.21      0.20      0.15        30\n",
            "\n",
            "[[0 2 0 0 0 0 0 0 0 0 0 0 0 0 0 0 0 0]\n",
            " [0 3 0 0 0 0 0 0 0 0 0 0 0 0 0 0 0 0]\n",
            " [0 2 0 1 0 0 0 0 0 0 0 0 0 0 0 0 0 0]\n",
            " [0 2 0 0 0 0 0 0 0 0 0 0 0 0 0 0 0 0]\n",
            " [0 0 0 0 0 0 0 0 0 0 0 0 0 0 0 0 0 0]\n",
            " [0 0 0 0 0 0 0 0 0 1 0 0 0 0 0 0 0 0]\n",
            " [0 0 0 0 1 0 0 1 0 0 0 0 0 0 0 0 0 0]\n",
            " [0 0 0 0 0 0 0 1 1 0 0 0 0 0 0 0 0 0]\n",
            " [0 0 0 0 1 0 0 0 0 0 0 0 0 0 0 0 0 0]\n",
            " [0 0 0 0 2 0 0 0 0 0 0 0 0 0 0 0 0 0]\n",
            " [0 0 0 0 0 0 0 1 0 0 0 0 0 0 0 0 0 0]\n",
            " [0 0 0 0 0 0 0 0 0 0 0 0 0 0 0 0 0 0]\n",
            " [0 0 0 0 0 0 0 0 0 0 0 1 1 0 0 0 0 0]\n",
            " [0 0 0 0 0 0 0 0 0 0 0 0 0 0 0 0 0 0]\n",
            " [0 0 0 0 0 0 0 0 1 0 0 0 1 0 0 0 0 0]\n",
            " [0 0 0 0 0 0 0 0 0 0 0 0 1 0 0 0 0 0]\n",
            " [0 0 0 0 0 0 0 0 1 0 0 0 0 0 0 1 0 0]\n",
            " [0 0 0 0 0 0 0 0 0 0 0 0 1 2 0 0 0 1]]\n"
          ],
          "name": "stdout"
        },
        {
          "output_type": "stream",
          "text": [
            "/usr/local/lib/python3.7/dist-packages/sklearn/metrics/_classification.py:1272: UndefinedMetricWarning: Precision and F-score are ill-defined and being set to 0.0 in labels with no predicted samples. Use `zero_division` parameter to control this behavior.\n",
            "  _warn_prf(average, modifier, msg_start, len(result))\n",
            "/usr/local/lib/python3.7/dist-packages/sklearn/metrics/_classification.py:1272: UndefinedMetricWarning: Recall and F-score are ill-defined and being set to 0.0 in labels with no true samples. Use `zero_division` parameter to control this behavior.\n",
            "  _warn_prf(average, modifier, msg_start, len(result))\n"
          ],
          "name": "stderr"
        }
      ]
    },
    {
      "cell_type": "code",
      "metadata": {
        "colab": {
          "base_uri": "https://localhost:8080/"
        },
        "id": "M0EWBVg2U82b",
        "outputId": "c790b240-fc77-43e1-dca1-f54517df498a"
      },
      "source": [
        "len(Y_neighbors)"
      ],
      "execution_count": null,
      "outputs": [
        {
          "output_type": "execute_result",
          "data": {
            "text/plain": [
              "5"
            ]
          },
          "metadata": {
            "tags": []
          },
          "execution_count": 109
        }
      ]
    },
    {
      "cell_type": "markdown",
      "metadata": {
        "id": "DvQ87yT4Qesi"
      },
      "source": [
        "**finding the best value of K for K-NN Classifier**\n",
        "**using GridSearchCV tool**"
      ]
    },
    {
      "cell_type": "code",
      "metadata": {
        "colab": {
          "base_uri": "https://localhost:8080/"
        },
        "id": "JbtrImV0S793",
        "outputId": "a3a81374-c644-48ef-e1de-f26819acd312"
      },
      "source": [
        "from sklearn.model_selection import GridSearchCV\n",
        "from sklearn.neighbors import KNeighborsClassifier\n",
        "#create new a knn model\n",
        "knn = KNeighborsClassifier()\n",
        "#create a dictionary of all values we want to test for n_neighbors\n",
        "param_grid = {'n_neighbors':Y_neighbors}\n",
        "#use gridsearch to test all values for n_neighbors\n",
        "knn_gscv = GridSearchCV(knn , param_grid,verbose=1, cv=3,n_jobs=-1)\n",
        "#fit model to data\n",
        "gs_result=knn_gscv.fit(X_train, Y_train)"
      ],
      "execution_count": null,
      "outputs": [
        {
          "output_type": "stream",
          "text": [
            "Fitting 3 folds for each of 5 candidates, totalling 15 fits\n"
          ],
          "name": "stdout"
        },
        {
          "output_type": "stream",
          "text": [
            "/usr/local/lib/python3.7/dist-packages/sklearn/model_selection/_split.py:667: UserWarning: The least populated class in y has only 1 members, which is less than n_splits=3.\n",
            "  % (min_groups, self.n_splits)), UserWarning)\n",
            "[Parallel(n_jobs=-1)]: Using backend LokyBackend with 2 concurrent workers.\n",
            "[Parallel(n_jobs=-1)]: Done  12 out of  15 | elapsed:    0.1s remaining:    0.0s\n",
            "[Parallel(n_jobs=-1)]: Done  15 out of  15 | elapsed:    0.1s finished\n"
          ],
          "name": "stderr"
        }
      ]
    },
    {
      "cell_type": "code",
      "metadata": {
        "colab": {
          "base_uri": "https://localhost:8080/"
        },
        "id": "WWbtVrFcTIoL",
        "outputId": "092dfa73-0979-416c-808c-3fc0e69bd184"
      },
      "source": [
        "gs_result.best_score_"
      ],
      "execution_count": null,
      "outputs": [
        {
          "output_type": "execute_result",
          "data": {
            "text/plain": [
              "0.19999999999999998"
            ]
          },
          "metadata": {
            "tags": []
          },
          "execution_count": 119
        }
      ]
    }
  ]
}